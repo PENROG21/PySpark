{
  "nbformat": 4,
  "nbformat_minor": 0,
  "metadata": {
    "colab": {
      "provenance": [],
      "authorship_tag": "ABX9TyNd6WEfsOTfh3ihIq87pJqY",
      "include_colab_link": true
    },
    "kernelspec": {
      "name": "python3",
      "display_name": "Python 3"
    },
    "language_info": {
      "name": "python"
    }
  },
  "cells": [
    {
      "cell_type": "markdown",
      "metadata": {
        "id": "view-in-github",
        "colab_type": "text"
      },
      "source": [
        "<a href=\"https://colab.research.google.com/github/PENROG21/PySpark/blob/main/%D0%98%D1%82%D0%BE%D0%B3%D0%BE%D0%B2%D0%BE%D0%B5_%D0%B7%D0%B0%D0%B4%D0%B0%D0%BD%D0%B8%D0%B5.ipynb\" target=\"_parent\"><img src=\"https://colab.research.google.com/assets/colab-badge.svg\" alt=\"Open In Colab\"/></a>"
      ]
    },
    {
      "cell_type": "markdown",
      "source": [
        "# Итоговое задание  №6"
      ],
      "metadata": {
        "id": "H7Z9ZIm2TM6z"
      }
    },
    {
      "cell_type": "markdown",
      "source": [
        "Часть 1. Генерация информации\n",
        "Мы использовали библиотеку Faker для генерации логов веб-сервера. Логи содержат следующую информацию:\n",
        "\n",
        "IP-адрес клиента\n",
        "Временная метка запроса\n",
        "HTTP-метод (GET, POST, etc.)\n",
        "URL запроса\n",
        "Код ответа (200, 404, etc.)\n",
        "Размер ответа в байтах\n",
        "Сгенерировали 100,000 записей логов и сохранили их в CSV-файл."
      ],
      "metadata": {
        "id": "0-QOvRAVTOhL"
      }
    },
    {
      "cell_type": "code",
      "execution_count": null,
      "metadata": {
        "colab": {
          "base_uri": "https://localhost:8080/"
        },
        "id": "S9xW1I8OS1zp",
        "outputId": "4d76e71a-b71b-4360-86d5-c0f53d33d133"
      },
      "outputs": [
        {
          "output_type": "stream",
          "name": "stdout",
          "text": [
            "Requirement already satisfied: pyspark in /usr/local/lib/python3.11/dist-packages (3.5.5)\n",
            "Requirement already satisfied: py4j==0.10.9.7 in /usr/local/lib/python3.11/dist-packages (from pyspark) (0.10.9.7)\n"
          ]
        }
      ],
      "source": [
        "!pip install pyspark"
      ]
    },
    {
      "cell_type": "code",
      "source": [
        "!pip install faker"
      ],
      "metadata": {
        "colab": {
          "base_uri": "https://localhost:8080/"
        },
        "id": "ZFSBpIBYS7C3",
        "outputId": "c60d3143-5559-4f8e-e778-a206bd979407"
      },
      "execution_count": null,
      "outputs": [
        {
          "output_type": "stream",
          "name": "stdout",
          "text": [
            "Collecting faker\n",
            "  Downloading faker-37.0.0-py3-none-any.whl.metadata (15 kB)\n",
            "Requirement already satisfied: tzdata in /usr/local/lib/python3.11/dist-packages (from faker) (2025.1)\n",
            "Downloading faker-37.0.0-py3-none-any.whl (1.9 MB)\n",
            "\u001b[2K   \u001b[90m━━━━━━━━━━━━━━━━━━━━━━━━━━━━━━━━━━━━━━━━\u001b[0m \u001b[32m1.9/1.9 MB\u001b[0m \u001b[31m14.1 MB/s\u001b[0m eta \u001b[36m0:00:00\u001b[0m\n",
            "\u001b[?25hInstalling collected packages: faker\n",
            "Successfully installed faker-37.0.0\n"
          ]
        }
      ]
    },
    {
      "cell_type": "code",
      "source": [
        "import csv\n",
        "from faker import Faker\n",
        "import random\n",
        "\n",
        "fake = Faker()\n",
        "\n",
        "num_records = 100000\n",
        "\n",
        "http_methods = ['GET', 'POST', 'PUT', 'DELETE']\n",
        "response_codes = [200, 301, 404, 500]\n",
        "\n",
        "file_path = \"web_server_logs.csv\"\n",
        "\n",
        "with open(file_path, mode='w', newline='') as file:\n",
        "    writer = csv.writer(file)\n",
        "    writer.writerow(['ip', 'timestamp', 'method', 'url', 'response_code', 'response_size'])\n",
        "\n",
        "    for _ in range(num_records):\n",
        "        ip = fake.ipv4()\n",
        "        timestamp = fake.date_time_this_year().isoformat()\n",
        "        method = random.choice(http_methods)\n",
        "        url = fake.uri_path()\n",
        "        response_code = random.choice(response_codes)\n",
        "        response_size = random.randint(100, 10000)\n",
        "\n",
        "        writer.writerow([ip, timestamp, method, url, response_code, response_size])\n",
        "\n",
        "print(f\"Сгенерировано {num_records} записей и сохранено в {file_path}\")"
      ],
      "metadata": {
        "colab": {
          "base_uri": "https://localhost:8080/"
        },
        "id": "Boi0j1DjS_4J",
        "outputId": "c439962d-7f1e-4fc8-9488-980179c6f80c"
      },
      "execution_count": null,
      "outputs": [
        {
          "output_type": "stream",
          "name": "stdout",
          "text": [
            "Сгенерировано 100000 записей и сохранено в web_server_logs.csv\n"
          ]
        }
      ]
    },
    {
      "cell_type": "code",
      "source": [
        "from pyspark.sql import SparkSession"
      ],
      "metadata": {
        "id": "gXxdAHb4Tg-A"
      },
      "execution_count": null,
      "outputs": []
    },
    {
      "cell_type": "code",
      "source": [
        "from pyspark.sql.functions import count, col, sum, to_date"
      ],
      "metadata": {
        "id": "NXqS7f8sU1sG"
      },
      "execution_count": 27,
      "outputs": []
    },
    {
      "cell_type": "code",
      "source": [
        "spark = SparkSession.builder.appName(\"Nombaer_6\").getOrCreate()"
      ],
      "metadata": {
        "id": "5He20SFMTsgg"
      },
      "execution_count": null,
      "outputs": []
    },
    {
      "cell_type": "code",
      "source": [
        "df = spark.read.csv(\"/content/web_server_logs.csv\", header=True, inferSchema=True)\n",
        "df.printSchema()\n",
        "df.show()"
      ],
      "metadata": {
        "colab": {
          "base_uri": "https://localhost:8080/"
        },
        "id": "Atjqyrz-UFdj",
        "outputId": "269c83c6-305b-453e-a951-6a98ca97b093"
      },
      "execution_count": null,
      "outputs": [
        {
          "output_type": "stream",
          "name": "stdout",
          "text": [
            "root\n",
            " |-- ip: string (nullable = true)\n",
            " |-- timestamp: timestamp (nullable = true)\n",
            " |-- method: string (nullable = true)\n",
            " |-- url: string (nullable = true)\n",
            " |-- response_code: integer (nullable = true)\n",
            " |-- response_size: integer (nullable = true)\n",
            "\n",
            "+---------------+--------------------+------+--------------------+-------------+-------------+\n",
            "|             ip|           timestamp|method|                 url|response_code|response_size|\n",
            "+---------------+--------------------+------+--------------------+-------------+-------------+\n",
            "| 110.176.20.213|2025-01-20 23:08:...|   GET|search/posts/cate...|          404|         8388|\n",
            "| 135.27.171.219|2025-03-02 09:11:...|   GET|category/wp-conte...|          500|         5211|\n",
            "|  200.192.97.23|2025-02-16 00:03:...|   PUT|     app/blog/search|          301|         4609|\n",
            "|   168.75.65.35|2025-01-18 14:01:...|   GET|          wp-content|          404|         7158|\n",
            "|  177.224.51.45|2025-01-30 17:29:...|   PUT|    posts/wp-content|          404|          926|\n",
            "|155.233.184.206|2025-01-14 19:54:...|DELETE|       blog/category|          500|         5276|\n",
            "| 101.67.119.115|2025-01-29 23:35:...|DELETE|   app/tags/category|          404|         8463|\n",
            "|  47.204.46.134|2025-01-01 23:58:...|  POST| search/app/category|          301|         5207|\n",
            "|  13.192.149.92|2025-02-01 18:54:...|DELETE|                 tag|          200|         5473|\n",
            "|   150.127.2.56|2025-02-08 13:31:...|  POST| posts/tags/category|          200|         8069|\n",
            "|  180.161.0.163|2025-02-07 19:40:...|DELETE|wp-content/blog/tags|          200|         6633|\n",
            "| 187.208.11.182|2025-03-02 14:28:...|   PUT|    categories/posts|          301|         5518|\n",
            "| 100.44.110.142|2025-02-26 09:17:...|  POST|      tags/tags/list|          200|          345|\n",
            "|   1.225.167.27|2025-01-10 13:51:...|DELETE|             explore|          301|         2122|\n",
            "|  29.233.219.13|2025-01-01 19:25:...|  POST| categories/blog/app|          200|         9998|\n",
            "|193.115.221.163|2025-03-09 11:14:...|  POST|           tag/posts|          200|         5279|\n",
            "| 87.138.146.120|2025-03-04 18:35:...|   PUT|         explore/tag|          200|         7654|\n",
            "|  142.241.48.49|2025-02-24 09:12:...|   PUT|          categories|          301|         3286|\n",
            "| 183.251.107.65|2025-02-22 08:05:...|  POST|             explore|          301|         9503|\n",
            "|    99.172.6.75|2025-01-23 02:04:...|  POST|          categories|          500|         7893|\n",
            "+---------------+--------------------+------+--------------------+-------------+-------------+\n",
            "only showing top 20 rows\n",
            "\n"
          ]
        }
      ]
    },
    {
      "cell_type": "code",
      "source": [
        "df = spark.read.csv(\"/content/web_server_logs.csv\", header=True, inferSchema=True)\n",
        "df.printSchema()\n",
        "df.show()"
      ],
      "metadata": {
        "colab": {
          "base_uri": "https://localhost:8080/"
        },
        "outputId": "269c83c6-305b-453e-a951-6a98ca97b093",
        "id": "2YRWUVOmYWtv"
      },
      "execution_count": null,
      "outputs": [
        {
          "output_type": "stream",
          "name": "stdout",
          "text": [
            "root\n",
            " |-- ip: string (nullable = true)\n",
            " |-- timestamp: timestamp (nullable = true)\n",
            " |-- method: string (nullable = true)\n",
            " |-- url: string (nullable = true)\n",
            " |-- response_code: integer (nullable = true)\n",
            " |-- response_size: integer (nullable = true)\n",
            "\n",
            "+---------------+--------------------+------+--------------------+-------------+-------------+\n",
            "|             ip|           timestamp|method|                 url|response_code|response_size|\n",
            "+---------------+--------------------+------+--------------------+-------------+-------------+\n",
            "| 110.176.20.213|2025-01-20 23:08:...|   GET|search/posts/cate...|          404|         8388|\n",
            "| 135.27.171.219|2025-03-02 09:11:...|   GET|category/wp-conte...|          500|         5211|\n",
            "|  200.192.97.23|2025-02-16 00:03:...|   PUT|     app/blog/search|          301|         4609|\n",
            "|   168.75.65.35|2025-01-18 14:01:...|   GET|          wp-content|          404|         7158|\n",
            "|  177.224.51.45|2025-01-30 17:29:...|   PUT|    posts/wp-content|          404|          926|\n",
            "|155.233.184.206|2025-01-14 19:54:...|DELETE|       blog/category|          500|         5276|\n",
            "| 101.67.119.115|2025-01-29 23:35:...|DELETE|   app/tags/category|          404|         8463|\n",
            "|  47.204.46.134|2025-01-01 23:58:...|  POST| search/app/category|          301|         5207|\n",
            "|  13.192.149.92|2025-02-01 18:54:...|DELETE|                 tag|          200|         5473|\n",
            "|   150.127.2.56|2025-02-08 13:31:...|  POST| posts/tags/category|          200|         8069|\n",
            "|  180.161.0.163|2025-02-07 19:40:...|DELETE|wp-content/blog/tags|          200|         6633|\n",
            "| 187.208.11.182|2025-03-02 14:28:...|   PUT|    categories/posts|          301|         5518|\n",
            "| 100.44.110.142|2025-02-26 09:17:...|  POST|      tags/tags/list|          200|          345|\n",
            "|   1.225.167.27|2025-01-10 13:51:...|DELETE|             explore|          301|         2122|\n",
            "|  29.233.219.13|2025-01-01 19:25:...|  POST| categories/blog/app|          200|         9998|\n",
            "|193.115.221.163|2025-03-09 11:14:...|  POST|           tag/posts|          200|         5279|\n",
            "| 87.138.146.120|2025-03-04 18:35:...|   PUT|         explore/tag|          200|         7654|\n",
            "|  142.241.48.49|2025-02-24 09:12:...|   PUT|          categories|          301|         3286|\n",
            "| 183.251.107.65|2025-02-22 08:05:...|  POST|             explore|          301|         9503|\n",
            "|    99.172.6.75|2025-01-23 02:04:...|  POST|          categories|          500|         7893|\n",
            "+---------------+--------------------+------+--------------------+-------------+-------------+\n",
            "only showing top 20 rows\n",
            "\n"
          ]
        }
      ]
    },
    {
      "cell_type": "markdown",
      "source": [
        "**Часть 2. Анализ информации**"
      ],
      "metadata": {
        "id": "8C5n6Gb1TcAr"
      }
    },
    {
      "cell_type": "markdown",
      "source": [
        "1. Сгруппируйте данные по IP и посчитайте количество запросов для каждого IP, выводим 10 самых активных IP. Формат вывода, как на скрине ниже."
      ],
      "metadata": {
        "id": "gf4StpUdTec5"
      }
    },
    {
      "cell_type": "code",
      "source": [
        "df.groupBy(\"ip\").agg(count(\"response_code\").alias(\"request_count\")).show(10)"
      ],
      "metadata": {
        "colab": {
          "base_uri": "https://localhost:8080/"
        },
        "id": "LkaZsfbVTW14",
        "outputId": "449169b2-faba-4d5e-fcf3-b7cb36964668"
      },
      "execution_count": null,
      "outputs": [
        {
          "output_type": "stream",
          "name": "stdout",
          "text": [
            "+---------------+-------------+\n",
            "|             ip|request_count|\n",
            "+---------------+-------------+\n",
            "| 39.251.113.210|            1|\n",
            "|  7.157.217.218|            1|\n",
            "|   124.74.30.67|            1|\n",
            "| 115.221.146.12|            1|\n",
            "|  94.251.97.150|            1|\n",
            "|   119.20.67.46|            1|\n",
            "|  81.17.112.248|            1|\n",
            "|  15.100.117.10|            1|\n",
            "| 222.45.114.114|            1|\n",
            "|152.127.149.165|            1|\n",
            "+---------------+-------------+\n",
            "only showing top 10 rows\n",
            "\n"
          ]
        }
      ]
    },
    {
      "cell_type": "markdown",
      "source": [
        "2. Сгруппируйте данные по HTTP-методу и посчитайте количество запросов для каждого метода."
      ],
      "metadata": {
        "id": "XRLfZaewVK9G"
      }
    },
    {
      "cell_type": "code",
      "source": [
        "df.groupBy(\"method\").agg(count(\"method\").alias(\"method_count\")).show()"
      ],
      "metadata": {
        "id": "T7SoA2dxVMSf",
        "colab": {
          "base_uri": "https://localhost:8080/"
        },
        "outputId": "b331ff38-d2b6-4812-da09-7f2ef34b4edc"
      },
      "execution_count": 13,
      "outputs": [
        {
          "output_type": "stream",
          "name": "stdout",
          "text": [
            "+------+------------+\n",
            "|method|method_count|\n",
            "+------+------------+\n",
            "|  POST|       25005|\n",
            "|DELETE|       24987|\n",
            "|   PUT|       24970|\n",
            "|   GET|       25038|\n",
            "+------+------------+\n",
            "\n"
          ]
        }
      ]
    },
    {
      "cell_type": "markdown",
      "source": [
        "3. Профильтруйте и посчитайте количество запросов с кодом ответа 404."
      ],
      "metadata": {
        "id": "uxx7ym2ZW5ri"
      }
    },
    {
      "cell_type": "code",
      "source": [
        "count_400 = df.filter(col(\"response_code\") == 400).count()\n",
        "print(f\"Количество запросов с кодом 400: {count_400}\")"
      ],
      "metadata": {
        "colab": {
          "base_uri": "https://localhost:8080/"
        },
        "id": "ZWajp6idW2qv",
        "outputId": "8c1c52c2-fbbe-4061-b3fc-68381aad5b2a"
      },
      "execution_count": 20,
      "outputs": [
        {
          "output_type": "stream",
          "name": "stdout",
          "text": [
            "Количество запросов с кодом 400: 0\n"
          ]
        }
      ]
    },
    {
      "cell_type": "markdown",
      "source": [
        "4. Сгруппируйте данные по дате и просуммируйте размер ответов, сортируйте по дате."
      ],
      "metadata": {
        "id": "cguKdy_cYKCi"
      }
    },
    {
      "cell_type": "code",
      "source": [
        "df.groupBy(to_date(col(\"timestamp\"))).agg(sum(\"response_size\").alias(\"total_response_size\")).show()"
      ],
      "metadata": {
        "colab": {
          "base_uri": "https://localhost:8080/"
        },
        "id": "Gn8Pg1j8YNgL",
        "outputId": "1bc7795c-5121-47ea-891f-9ab50c948bf3"
      },
      "execution_count": 28,
      "outputs": [
        {
          "output_type": "stream",
          "name": "stdout",
          "text": [
            "+------------------+-------------------+\n",
            "|to_date(timestamp)|total_response_size|\n",
            "+------------------+-------------------+\n",
            "|        2025-02-16|            7364991|\n",
            "|        2025-02-01|            7128222|\n",
            "|        2025-02-15|            7560309|\n",
            "|        2025-02-05|            7258328|\n",
            "|        2025-02-13|            7384224|\n",
            "|        2025-02-06|            7247724|\n",
            "|        2025-01-09|            7665605|\n",
            "|        2025-02-12|            7582951|\n",
            "|        2025-03-03|            7128705|\n",
            "|        2025-02-22|            7440851|\n",
            "|        2025-01-14|            7512980|\n",
            "|        2025-03-08|            7590265|\n",
            "|        2025-02-10|            7754612|\n",
            "|        2025-02-28|            7670977|\n",
            "|        2025-02-23|            7289590|\n",
            "|        2025-01-18|            7281687|\n",
            "|        2025-02-03|            7294701|\n",
            "|        2025-01-28|            7327230|\n",
            "|        2025-03-07|            7010965|\n",
            "|        2025-01-17|            7435305|\n",
            "+------------------+-------------------+\n",
            "only showing top 20 rows\n",
            "\n"
          ]
        }
      ]
    }
  ]
}